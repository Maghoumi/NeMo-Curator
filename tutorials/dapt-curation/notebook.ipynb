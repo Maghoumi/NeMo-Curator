{
 "cells": [
  {
   "cell_type": "markdown",
   "metadata": {},
   "source": [
    "# Data Curation for DAPT (Domain Adaptive Pre-Training)"
   ]
  },
  {
   "cell_type": "markdown",
   "metadata": {},
   "source": [
    "## **Step 1**: install the prerequisites and import the required modules"
   ]
  },
  {
   "cell_type": "code",
   "execution_count": null,
   "metadata": {},
   "outputs": [],
   "source": [
    "! pip install -r requirements.txt"
   ]
  },
  {
   "cell_type": "code",
   "execution_count": 1,
   "metadata": {},
   "outputs": [
    {
     "name": "stderr",
     "output_type": "stream",
     "text": [
      "/home/mmaghoumi/git/dl-tme/NeMo-Curator/venv/lib/python3.10/site-packages/tqdm/auto.py:21: TqdmWarning: IProgress not found. Please update jupyter and ipywidgets. See https://ipywidgets.readthedocs.io/en/stable/user_install.html\n",
      "  from .autonotebook import tqdm as notebook_tqdm\n"
     ]
    }
   ],
   "source": [
    "from nemo_curator.utils.distributed_utils import get_client\n",
    "from nemo_curator.utils.file_utils import get_all_files_paths_under\n",
    "from nemo_curator.datasets import DocumentDataset\n",
    "\n",
    "from downloaders import download_wikipedia_sources, download_github_sources\n",
    "\n",
    "# Initialize the Dask cluster.\n",
    "client = get_client(n_workers=1)"
   ]
  },
  {
   "cell_type": "markdown",
   "metadata": {},
   "source": [
    "## **Step 2:** download the data from online sources and convert to JSONL"
   ]
  },
  {
   "cell_type": "code",
   "execution_count": 2,
   "metadata": {},
   "outputs": [
    {
     "name": "stdout",
     "output_type": "stream",
     "text": [
      "Download directory:  /home/mmaghoumi/git/dl-tme/NeMo-Curator/tutorials/dapt-curation/data/raw/wikipedia\n"
     ]
    },
    {
     "name": "stdout",
     "output_type": "stream",
     "text": [
      "Downloading txt URLs data from 'https://en.wikipedia.org/wiki/Parallel%20computing'...\n",
      "Downloading txt URLs data from 'https://en.wikipedia.org/wiki/Operand%20forwarding'...\n",
      "Downloading txt URLs data from 'https://en.wikipedia.org/wiki/HVM'...\n",
      "Downloading txt URLs data from 'https://en.wikipedia.org/wiki/Number%20Assignment%20Module'...\n"
     ]
    }
   ],
   "source": [
    "wikipedia_dir = download_wikipedia_sources(\"sources/wikipedia_urls.jsonl\", limit=200)\n",
    "# github_dir = download_github_sources(\"sources/github_repos.jsonl\", limit=200)"
   ]
  },
  {
   "cell_type": "markdown",
   "metadata": {},
   "source": [
    "## **Step 3**: load the dataset"
   ]
  },
  {
   "cell_type": "code",
   "execution_count": null,
   "metadata": {},
   "outputs": [],
   "source": [
    "print(\"Reading the data...\")\n",
    "text_files = get_all_files_paths_under(wikipedia_dir)\n",
    "code_files = get_all_files_paths_under(github_dir)\n",
    "\n",
    "dataset_text = DocumentDataset.read_json(text_files, add_filename=True)\n",
    "dataset_code = DocumentDataset.read_json(code_files, add_filename=True)\n",
    "\n",
    "len(dataset_text.df) + len(dataset_code.df)"
   ]
  },
  {
   "cell_type": "markdown",
   "metadata": {},
   "source": [
    "## **Step 4**: run the data curation pipeline"
   ]
  }
 ],
 "metadata": {
  "kernelspec": {
   "display_name": "venv",
   "language": "python",
   "name": "python3"
  },
  "language_info": {
   "codemirror_mode": {
    "name": "ipython",
    "version": 3
   },
   "file_extension": ".py",
   "mimetype": "text/x-python",
   "name": "python",
   "nbconvert_exporter": "python",
   "pygments_lexer": "ipython3",
   "version": "3.10.13"
  }
 },
 "nbformat": 4,
 "nbformat_minor": 2
}
